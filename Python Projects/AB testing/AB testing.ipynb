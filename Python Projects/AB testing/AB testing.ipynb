{
 "cells": [
  {
   "cell_type": "markdown",
   "id": "ebd05f61",
   "metadata": {},
   "source": [
    "# Problem Statement:"
   ]
  },
  {
   "cell_type": "markdown",
   "id": "674c566e",
   "metadata": {},
   "source": [
    "An online company wants to determine the impact of raising shipment cost strategy on customer behavior and satisfaction. They raised shipment cost to some customers (referred to as the \"new group\") while keeping the old pricing model for other customers (referred to as the \"old group\"). The company wants to evaluate whether the new pricing model leads to lower customer satisfaction (measured by Net Promoter Score - NPS), decreassed customer purchases, and lower repurchase rates compared to the old pricing model.\n"
   ]
  },
  {
   "cell_type": "markdown",
   "id": "c857e398",
   "metadata": {},
   "source": [
    "## Dataset Description:  "
   ]
  },
  {
   "cell_type": "markdown",
   "id": "eae4baea",
   "metadata": {},
   "source": [
    "The dataset contains the following columns:\n",
    "\n",
    "user_id: An identifier for each user.\\\n",
    "paid: A binary variable indicating whether the user made a purchase (1) or not (0).\\\n",
    "NPS: The Net Promoter Score given by the user. Some users have not participated, represented as -1.\\\n",
    "repurchase: A binary variable indicating whether the user made a repurchase (1) or not (0).\\"
   ]
  },
  {
   "cell_type": "markdown",
   "id": "c18f5ebc",
   "metadata": {},
   "source": [
    "## Objective: "
   ]
  },
  {
   "cell_type": "markdown",
   "id": "21a4bc65",
   "metadata": {},
   "source": [
    "The objective of this A/B test is to analyze the impact of the new pricing model on customer behavior and satisfaction compared to the old pricing model. Specifically, we aim to answer the following questions:\n",
    "\n",
    "Does the new shipment cost lead to a lower NPS compared to the old pricing model?\n",
    "Does the new shipment cost result in a lower percentage of customers making a purchase compared to the old pricing model?\n",
    "Does the new shipment cost result in a lower repurchase rate compared to the old pricing model?\n",
    "By comparing the new group (users exposed to the new shipment cost) with the old group (users under the old shipment cost), we can assess the effectiveness and potential risk of the new shipment cost."
   ]
  },
  {
   "cell_type": "code",
   "execution_count": 40,
   "id": "c2da461b",
   "metadata": {},
   "outputs": [],
   "source": [
    "import pandas as pd\n",
    "import numpy as np\n",
    "import matplotlib.pyplot as plt\n",
    "import seaborn as sns\n",
    "from scipy import stats\n",
    "import math"
   ]
  },
  {
   "cell_type": "code",
   "execution_count": 43,
   "id": "3e1ab9ba",
   "metadata": {},
   "outputs": [
    {
     "data": {
      "text/html": [
       "<div>\n",
       "<style scoped>\n",
       "    .dataframe tbody tr th:only-of-type {\n",
       "        vertical-align: middle;\n",
       "    }\n",
       "\n",
       "    .dataframe tbody tr th {\n",
       "        vertical-align: top;\n",
       "    }\n",
       "\n",
       "    .dataframe thead th {\n",
       "        text-align: right;\n",
       "    }\n",
       "</style>\n",
       "<table border=\"1\" class=\"dataframe\">\n",
       "  <thead>\n",
       "    <tr style=\"text-align: right;\">\n",
       "      <th></th>\n",
       "      <th>user_id</th>\n",
       "      <th>pricing</th>\n",
       "      <th>paid</th>\n",
       "      <th>nps</th>\n",
       "      <th>repurchase</th>\n",
       "    </tr>\n",
       "  </thead>\n",
       "  <tbody>\n",
       "    <tr>\n",
       "      <th>0</th>\n",
       "      <td>375</td>\n",
       "      <td>0</td>\n",
       "      <td>1</td>\n",
       "      <td>7</td>\n",
       "      <td>1</td>\n",
       "    </tr>\n",
       "    <tr>\n",
       "      <th>1</th>\n",
       "      <td>156</td>\n",
       "      <td>0</td>\n",
       "      <td>1</td>\n",
       "      <td>8</td>\n",
       "      <td>1</td>\n",
       "    </tr>\n",
       "    <tr>\n",
       "      <th>2</th>\n",
       "      <td>21</td>\n",
       "      <td>1</td>\n",
       "      <td>0</td>\n",
       "      <td>0</td>\n",
       "      <td>1</td>\n",
       "    </tr>\n",
       "    <tr>\n",
       "      <th>3</th>\n",
       "      <td>184</td>\n",
       "      <td>0</td>\n",
       "      <td>1</td>\n",
       "      <td>5</td>\n",
       "      <td>1</td>\n",
       "    </tr>\n",
       "    <tr>\n",
       "      <th>4</th>\n",
       "      <td>612</td>\n",
       "      <td>1</td>\n",
       "      <td>1</td>\n",
       "      <td>-1</td>\n",
       "      <td>0</td>\n",
       "    </tr>\n",
       "    <tr>\n",
       "      <th>5</th>\n",
       "      <td>786</td>\n",
       "      <td>0</td>\n",
       "      <td>1</td>\n",
       "      <td>10</td>\n",
       "      <td>1</td>\n",
       "    </tr>\n",
       "    <tr>\n",
       "      <th>6</th>\n",
       "      <td>608</td>\n",
       "      <td>1</td>\n",
       "      <td>1</td>\n",
       "      <td>-1</td>\n",
       "      <td>0</td>\n",
       "    </tr>\n",
       "    <tr>\n",
       "      <th>7</th>\n",
       "      <td>809</td>\n",
       "      <td>1</td>\n",
       "      <td>1</td>\n",
       "      <td>-1</td>\n",
       "      <td>1</td>\n",
       "    </tr>\n",
       "    <tr>\n",
       "      <th>8</th>\n",
       "      <td>123</td>\n",
       "      <td>0</td>\n",
       "      <td>1</td>\n",
       "      <td>5</td>\n",
       "      <td>1</td>\n",
       "    </tr>\n",
       "    <tr>\n",
       "      <th>9</th>\n",
       "      <td>663</td>\n",
       "      <td>0</td>\n",
       "      <td>1</td>\n",
       "      <td>2</td>\n",
       "      <td>1</td>\n",
       "    </tr>\n",
       "  </tbody>\n",
       "</table>\n",
       "</div>"
      ],
      "text/plain": [
       "   user_id  pricing  paid  nps  repurchase\n",
       "0      375        0     1    7           1\n",
       "1      156        0     1    8           1\n",
       "2       21        1     0    0           1\n",
       "3      184        0     1    5           1\n",
       "4      612        1     1   -1           0\n",
       "5      786        0     1   10           1\n",
       "6      608        1     1   -1           0\n",
       "7      809        1     1   -1           1\n",
       "8      123        0     1    5           1\n",
       "9      663        0     1    2           1"
      ]
     },
     "execution_count": 43,
     "metadata": {},
     "output_type": "execute_result"
    }
   ],
   "source": [
    "\n",
    "# set the random seed for reproducibility\n",
    "np.random.seed(42)\n",
    "\n",
    "# define the sample size and the number of features\n",
    "n = 1000 # number of users\n",
    "k = 5 # number of features\n",
    "\n",
    "# create a numpy array of random numbers with shape (n, k)\n",
    "data = np.random.rand(n, k)\n",
    "\n",
    "# create a pandas DataFrame from the numpy array\n",
    "df = pd.DataFrame(data, columns=['user_id', 'pricing', 'paid', 'nps', 'repurchase'])\n",
    "\n",
    "# scale the user_id column to be integers from 1 to n\n",
    "df['user_id'] = (df['user_id'] * n).astype(int) + 1\n",
    "\n",
    "# scale the pricing column to be binary (0 or 1) with probability 0.5 for old and new cost\n",
    "df['pricing'] = np.random.binomial(1, 0.5, n)\n",
    "\n",
    "# scale the paid column to be binary (0 or 1) with probability 0.8 for old cost and 0.6 for new cost\n",
    "df['paid'] = np.where(df['pricing'] == 1, np.random.binomial(1, 0.6, n), np.random.binomial(1, 0.8, n))\n",
    "\n",
    "# Generate NPS, with some users not participating (represented as NULL values)\n",
    "nps_mask = np.random.choice([True, False], size=n, p=[0.25, 0.75])\n",
    "nps_values = np.random.randint(0, 11, size=n)\n",
    "nps_values[~nps_mask] = -1\n",
    "df['nps'] = np.where(df['pricing'] == 1, nps_values, np.random.randint(0, 11, size=n))\n",
    "\n",
    "# scale the repurchase column to be binary (0 or 1) with probability 0.7 for old cost and 0.5 for new cost\n",
    "df['repurchase'] = np.where(df['pricing'] == 1, np.random.binomial(1, 0.5, n), np.random.binomial(1, 0.7, n))\n",
    "\n",
    "# display the first 10 rows of the DataFrame\n",
    "df.head(10)"
   ]
  },
  {
   "cell_type": "markdown",
   "id": "c3960b34",
   "metadata": {},
   "source": [
    "# building Hypothesis"
   ]
  },
  {
   "cell_type": "markdown",
   "id": "281f1ba5",
   "metadata": {},
   "source": [
    "H0 : M1=M2 (There is no difference between old and new project.)\\\n",
    "H1 : M1!=M2 (There is quite difference between each other)\\\n"
   ]
  },
  {
   "cell_type": "code",
   "execution_count": 45,
   "id": "9531a301",
   "metadata": {},
   "outputs": [
    {
     "data": {
      "text/html": [
       "<div>\n",
       "<style scoped>\n",
       "    .dataframe tbody tr th:only-of-type {\n",
       "        vertical-align: middle;\n",
       "    }\n",
       "\n",
       "    .dataframe tbody tr th {\n",
       "        vertical-align: top;\n",
       "    }\n",
       "\n",
       "    .dataframe thead th {\n",
       "        text-align: right;\n",
       "    }\n",
       "</style>\n",
       "<table border=\"1\" class=\"dataframe\">\n",
       "  <thead>\n",
       "    <tr style=\"text-align: right;\">\n",
       "      <th></th>\n",
       "      <th>paid</th>\n",
       "      <th>repurchase</th>\n",
       "    </tr>\n",
       "    <tr>\n",
       "      <th>pricing</th>\n",
       "      <th></th>\n",
       "      <th></th>\n",
       "    </tr>\n",
       "  </thead>\n",
       "  <tbody>\n",
       "    <tr>\n",
       "      <th>0</th>\n",
       "      <td>0.806706</td>\n",
       "      <td>0.684418</td>\n",
       "    </tr>\n",
       "    <tr>\n",
       "      <th>1</th>\n",
       "      <td>0.628803</td>\n",
       "      <td>0.480730</td>\n",
       "    </tr>\n",
       "  </tbody>\n",
       "</table>\n",
       "</div>"
      ],
      "text/plain": [
       "             paid  repurchase\n",
       "pricing                      \n",
       "0        0.806706    0.684418\n",
       "1        0.628803    0.480730"
      ]
     },
     "execution_count": 45,
     "metadata": {},
     "output_type": "execute_result"
    }
   ],
   "source": [
    "df[['pricing','paid', 'repurchase']].groupby('pricing').mean()"
   ]
  },
  {
   "cell_type": "code",
   "execution_count": 48,
   "id": "9aa93de7",
   "metadata": {},
   "outputs": [
    {
     "data": {
      "text/html": [
       "<div>\n",
       "<style scoped>\n",
       "    .dataframe tbody tr th:only-of-type {\n",
       "        vertical-align: middle;\n",
       "    }\n",
       "\n",
       "    .dataframe tbody tr th {\n",
       "        vertical-align: top;\n",
       "    }\n",
       "\n",
       "    .dataframe thead th {\n",
       "        text-align: right;\n",
       "    }\n",
       "</style>\n",
       "<table border=\"1\" class=\"dataframe\">\n",
       "  <thead>\n",
       "    <tr style=\"text-align: right;\">\n",
       "      <th></th>\n",
       "      <th>nps</th>\n",
       "    </tr>\n",
       "    <tr>\n",
       "      <th>pricing</th>\n",
       "      <th></th>\n",
       "    </tr>\n",
       "  </thead>\n",
       "  <tbody>\n",
       "    <tr>\n",
       "      <th>0</th>\n",
       "      <td>4.857988</td>\n",
       "    </tr>\n",
       "    <tr>\n",
       "      <th>1</th>\n",
       "      <td>4.807407</td>\n",
       "    </tr>\n",
       "  </tbody>\n",
       "</table>\n",
       "</div>"
      ],
      "text/plain": [
       "              nps\n",
       "pricing          \n",
       "0        4.857988\n",
       "1        4.807407"
      ]
     },
     "execution_count": 48,
     "metadata": {},
     "output_type": "execute_result"
    }
   ],
   "source": [
    "df[df.nps!=-1][['pricing','nps']].groupby('pricing').mean()"
   ]
  },
  {
   "cell_type": "markdown",
   "id": "71efceaa",
   "metadata": {},
   "source": [
    "🎈🎈\n",
    "We can see difference easily but it can be randomly"
   ]
  },
  {
   "cell_type": "code",
   "execution_count": 34,
   "id": "42f1c923",
   "metadata": {},
   "outputs": [
    {
     "data": {
      "image/png": "[encoded data removed]",
      "text/plain": [
       "<Figure size 640x480 with 1 Axes>"
      ]
     },
     "metadata": {},
     "output_type": "display_data"
    }
   ],
   "source": [
    "\n",
    "# Visualizations\n",
    "\n",
    "# Bar plot for paid column by pricing category\n",
    "paid_counts = df.groupby(['pricing', 'paid']).size().unstack()\n",
    "paid_counts.plot(kind='bar', stacked=True)\n",
    "plt.xlabel('Pricing')\n",
    "plt.ylabel('Count')\n",
    "plt.title('Paid Counts by Pricing Category')\n",
    "plt.show()\n"
   ]
  },
  {
   "cell_type": "code",
   "execution_count": 49,
   "id": "aaf086b3",
   "metadata": {},
   "outputs": [
    {
     "data": {
      "image/png": "[encoded data removed]",
      "text/plain": [
       "<Figure size 640x480 with 1 Axes>"
      ]
     },
     "metadata": {},
     "output_type": "display_data"
    }
   ],
   "source": [
    "\n",
    "# Histogram of NPS by pricing category\n",
    "nps_hist = df[df['nps'] != -1].groupby('pricing')['nps']\n",
    "plt.hist(nps_hist.get_group(0), alpha=0.5, label='Old Pricing')\n",
    "plt.hist(nps_hist.get_group(1), alpha=0.5, label='New Pricing')\n",
    "plt.xlabel('NPS')\n",
    "plt.ylabel('Count')\n",
    "plt.title('NPS Histogram by Pricing Category')\n",
    "plt.legend()\n",
    "plt.show()\n"
   ]
  },
  {
   "cell_type": "code",
   "execution_count": 52,
   "id": "c9c23322",
   "metadata": {},
   "outputs": [
    {
     "name": "stdout",
     "output_type": "stream",
     "text": [
      "A/B Test Result:\n",
      "NPS: t-statistic = 0.172, p-value = 0.8633095381\n"
     ]
    }
   ],
   "source": [
    "# A/B Test\n",
    "\n",
    "# Conduct t-test for NPS\n",
    "old_nps = df[df.nps>=0].loc[df['pricing'] == 0, 'nps']\n",
    "new_nps = df[df.nps>=0].loc[df['pricing'] == 1, 'nps']\n",
    "\n",
    "t_stat, p_value = stats.ttest_ind(old_nps, new_nps, nan_policy='omit')\n",
    "\n",
    "print(\"A/B Test Result:\")\n",
    "print(\"NPS: t-statistic = {:.3f}, p-value = {:.10f}\".format(t_stat, p_value))"
   ]
  },
  {
   "cell_type": "markdown",
   "id": "ba112e35",
   "metadata": {},
   "source": [
    "🎈🎈Since the p value is not less than 0.05 the h0 hypothesis cannot be rejected. the h0 hypothesis cannot be rejected. So, There is no statistically significant difference between, the Control and Test group and raising shipment cost will not affect satisfaction of customers that much."
   ]
  },
  {
   "cell_type": "code",
   "execution_count": 56,
   "id": "f8403c24",
   "metadata": {},
   "outputs": [
    {
     "name": "stdout",
     "output_type": "stream",
     "text": [
      "A/B Test Result:\n",
      "NPS: t-statistic = 6.377, p-value 2.753266904837402e-10\n"
     ]
    }
   ],
   "source": [
    "# A/B Test\n",
    "\n",
    "# Conduct t-test for NPS\n",
    "old_paid = df.loc[df['pricing'] == 0, 'paid']\n",
    "new_paid = df.loc[df['pricing'] == 1, 'paid']\n",
    "\n",
    "t_stat, p_value = stats.ttest_ind(old_paid, new_paid, nan_policy='omit')\n",
    "\n",
    "print(\"A/B Test Result:\")\n",
    "print(\"NPS: t-statistic = {:.3f}, p-value {}\".format(t_stat, p_value))"
   ]
  },
  {
   "cell_type": "markdown",
   "id": "0e0bb6e7",
   "metadata": {},
   "source": [
    "🎈The t-statistic is 6.377, which means that the difference in the mean paid is 6.377 standard errors away from zero. The p-value is 2.753266904837402e-10, which means that the probability of observing such a large difference by chance is extremely low, almost zero. This indicates that the new shipment cost has a negative and strong impact on the customer paying and closing basket."
   ]
  },
  {
   "cell_type": "code",
   "execution_count": 57,
   "id": "71bc0de2",
   "metadata": {},
   "outputs": [
    {
     "name": "stdout",
     "output_type": "stream",
     "text": [
      "A/B Test Result:\n",
      "NPS: t-statistic = 6.671, p-value 4.208891845447773e-11\n"
     ]
    }
   ],
   "source": [
    "# A/B Test\n",
    "\n",
    "# Conduct t-test for NPS\n",
    "old_repurchase = df.loc[df['pricing'] == 0, 'repurchase']\n",
    "new_repurchase = df.loc[df['pricing'] == 1, 'repurchase']\n",
    "\n",
    "t_stat, p_value = stats.ttest_ind(old_repurchase, new_repurchase, nan_policy='omit')\n",
    "\n",
    "print(\"A/B Test Result:\")\n",
    "print(\"NPS: t-statistic = {:.3f}, p-value {}\".format(t_stat, p_value))"
   ]
  },
  {
   "cell_type": "markdown",
   "id": "8aa1166e",
   "metadata": {},
   "source": [
    "there is no statistically significant difference between the control and test groups in NPS, indicating that raising shipment cost will not significantly affect customer satisfaction. However, the second and third conclusion states that the new shipment cost has a negative and strong impact on customer paying, closing basket and retention .\n"
   ]
  },
  {
   "cell_type": "code",
   "execution_count": null,
   "id": "19d7d22f",
   "metadata": {},
   "outputs": [],
   "source": []
  }
 ],
 "metadata": {
  "kernelspec": {
   "display_name": "Python 3 (ipykernel)",
   "language": "python",
   "name": "python3"
  },
  "language_info": {
   "codemirror_mode": {
    "name": "ipython",
    "version": 3
   },
   "file_extension": ".py",
   "mimetype": "text/x-python",
   "name": "python",
   "nbconvert_exporter": "python",
   "pygments_lexer": "ipython3",
   "version": "3.7.0"
  }
 },
 "nbformat": 4,
 "nbformat_minor": 5
}
